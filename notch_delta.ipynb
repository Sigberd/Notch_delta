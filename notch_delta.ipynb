{
 "cells": [
  {
   "cell_type": "code",
   "execution_count": 33,
   "metadata": {},
   "outputs": [
    {
     "data": {
      "text/plain": [
       "[<matplotlib.lines.Line2D at 0x2970293b7f0>,\n",
       " <matplotlib.lines.Line2D at 0x2970293ba58>,\n",
       " <matplotlib.lines.Line2D at 0x2970293bba8>]"
      ]
     },
     "execution_count": 33,
     "metadata": {},
     "output_type": "execute_result"
    },
    {
     "data": {
      "image/png": "[encoded data removed]",
      "text/plain": [
       "<matplotlib.figure.Figure at 0x29702859f28>"
      ]
     },
     "metadata": {},
     "output_type": "display_data"
    }
   ],
   "source": [
    "%matplotlib inline\n",
    "import numpy as np\n",
    "import matplotlib.pyplot as plt\n",
    "from scipy.integrate import odeint\n",
    "\n",
    "t = np.linspace(0,100,1001)\n",
    "\n",
    "def model (z, t):\n",
    "    D = z[1]\n",
    "    N = z[2]\n",
    "    S = z[0]\n",
    "    betaN = 0.2\n",
    "    betaD = 0.3\n",
    "    gamma = 0.25\n",
    "    gammas = 0.1\n",
    "    kc = 2\n",
    "    kt = 3\n",
    "    Dt = 1\n",
    "    Nt = 1\n",
    "    dNdt = betaN - gamma*N - (D*N)/kc - (Dt*N)/kt\n",
    "    dDdt = betaD - gamma*D - (D*N)/kc - (D*Nt)/kt\n",
    "    dSdt = (Dt*N)/kt -gammas*S\n",
    "    return [dSdt, dNdt, dDdt]\n",
    "\n",
    "z0 = [1,1,1]\n",
    "z = odeint (model, z0, t)\n",
    "plt.plot(t, z)\n"
   ]
  },
  {
   "cell_type": "code",
   "execution_count": null,
   "metadata": {
    "collapsed": true
   },
   "outputs": [],
   "source": []
  }
 ],
 "metadata": {
  "kernelspec": {
   "display_name": "Python 3",
   "language": "python",
   "name": "python3"
  },
  "language_info": {
   "codemirror_mode": {
    "name": "ipython",
    "version": 3
   },
   "file_extension": ".py",
   "mimetype": "text/x-python",
   "name": "python",
   "nbconvert_exporter": "python",
   "pygments_lexer": "ipython3",
   "version": "3.6.3"
  }
 },
 "nbformat": 4,
 "nbformat_minor": 2
}
